{
 "cells": [
  {
   "cell_type": "code",
   "execution_count": 1,
   "id": "82609503-d2e1-4c2a-b837-b8e406462398",
   "metadata": {},
   "outputs": [],
   "source": [
    " #Q1. Which keyword is used to create a function? Create a function to return a list of odd numbers in the \n",
    "#range of 1 to 25."
   ]
  },
  {
   "cell_type": "markdown",
   "id": "82dae7ce-6a3a-4afb-bb5f-6f70752e510a",
   "metadata": {},
   "source": [
    " ANS = def KEY WORD  is use to create a function .\n",
    " A function in Python is a logical unit of code that consists of a series of statements that are indented and given a name using the \"def\" keyword."
   ]
  },
  {
   "cell_type": "code",
   "execution_count": 2,
   "id": "adeb7a0d-d05a-4033-b882-4eb440cd785b",
   "metadata": {},
   "outputs": [
    {
     "data": {
      "text/plain": [
       "[1, 3, 5, 7, 9, 11, 13, 15, 17, 19, 21, 23, 25]"
      ]
     },
     "execution_count": 2,
     "metadata": {},
     "output_type": "execute_result"
    }
   ],
   "source": [
    "l2=[]\n",
    "l1=(range(1,26))\n",
    "for i in l1:\n",
    "    if i%2!=0:\n",
    "        l2.append(i)\n",
    "l2       \n",
    "    \n",
    "\n",
    "    "
   ]
  },
  {
   "cell_type": "code",
   "execution_count": 3,
   "id": "062213ff-9fae-4e58-b074-b36ee255922e",
   "metadata": {},
   "outputs": [],
   "source": [
    "#Q2. Why *args and **kwargs is used in some functions? Create a function each for *args and **kwargs \n",
    "#to demonstrate their use?"
   ]
  },
  {
   "cell_type": "markdown",
   "id": "227c0f43-2984-4c0a-82b6-7ca18630f8c6",
   "metadata": {},
   "source": [
    "ANS= The problem arises when we have a variable number of arguments. Should we keep modifying the function to accept the exact number of arguments? Of course not, we won't be doing this.\n",
    "\n",
    "  -> So there must be some other way to do it. This is where *args and **kwargs jump in.\n",
    "\n",
    "You can use *args and **kwargs as arguments of a function when you are unsure about the number of arguments to pass in the functions.\n",
    "        \n",
    "        \n",
    " *args:-\n",
    "        \n",
    "*args allows us to pass a variable number of non-keyword arguments to a Python function. In the function, we \n",
    "        should use an asterisk (*) before the parameter name to pass a variable number of arguments.\n",
    " \n",
    "**kwargs:-\n",
    " \n",
    " **kwargs allows us to pass a variable number of keyword arguments to a Python function. In the function, we use the double-asterisk (**) before the parameter name to denote this type of argument."
   ]
  },
  {
   "cell_type": "code",
   "execution_count": 4,
   "id": "80cf0fc7-9dfa-40aa-b4f9-ab0b6f57d385",
   "metadata": {},
   "outputs": [],
   "source": [
    "#args\n",
    "def sum_all(*args):\n",
    "    result = 0\n",
    "    for arg in args:\n",
    "        result += arg\n",
    "    return result"
   ]
  },
  {
   "cell_type": "code",
   "execution_count": 5,
   "id": "7e262796-b64a-4682-859c-96efa5a91552",
   "metadata": {},
   "outputs": [
    {
     "data": {
      "text/plain": [
       "15"
      ]
     },
     "execution_count": 5,
     "metadata": {},
     "output_type": "execute_result"
    }
   ],
   "source": [
    "sum_all(1,2,3,4,5)"
   ]
  },
  {
   "cell_type": "code",
   "execution_count": 6,
   "id": "37026f94-64f8-49e7-8f3a-4cb47bc003c4",
   "metadata": {},
   "outputs": [],
   "source": [
    "#*kargs\n",
    "def get_kwargs(**kwargs):\n",
    "    return kwargs"
   ]
  },
  {
   "cell_type": "code",
   "execution_count": 7,
   "id": "d8cadd1a-5594-461b-8b11-5c6da393b566",
   "metadata": {},
   "outputs": [
    {
     "data": {
      "text/plain": [
       "{'a': 1, 'b': 3, 'c': 4}"
      ]
     },
     "execution_count": 7,
     "metadata": {},
     "output_type": "execute_result"
    }
   ],
   "source": [
    "get_kwargs(a=1,b=3,c=4)"
   ]
  },
  {
   "cell_type": "code",
   "execution_count": 8,
   "id": "c2fc1520-935d-4efb-a319-a2f46b5ddae8",
   "metadata": {},
   "outputs": [],
   "source": [
    "#Q3.  What is an iterator in python? Name the method used to initialise the iterator object and the method \n",
    "#used for iteration. Use these methods to print the first five elements of the given list [2, 4, 6, 8, 10, 12, 14, \n",
    "#16, 18, 20]."
   ]
  },
  {
   "cell_type": "markdown",
   "id": "dcb5a8a2-5763-4d68-9231-890c3a35b6f9",
   "metadata": {},
   "source": [
    "ANS = In Python, an iterator is an object that implements the iterator protocol, which consists of the __iter__() and __next__() methods. An iterator is an object that produces a sequence of values, one at a time, when iterated over using a for loop or the next() function.\n",
    "\n",
    "The __iter__() method is used to initialize the iterator object and returns the iterator object itself. The __next__() method is used for iteration and returns the next value in the sequence. When there are no more values to return, it raises the StopIteration exception."
   ]
  },
  {
   "cell_type": "code",
   "execution_count": 9,
   "id": "16f3b615-8cbb-432e-ae8d-1249a22f1d83",
   "metadata": {},
   "outputs": [],
   "source": [
    "l=[2, 4, 6, 8, 10, 12, 14, 16, 18, 20]"
   ]
  },
  {
   "cell_type": "code",
   "execution_count": 10,
   "id": "520e2ef2-49f9-46b3-8fe2-f7a3e57e3ff5",
   "metadata": {},
   "outputs": [
    {
     "name": "stdout",
     "output_type": "stream",
     "text": [
      "2\n",
      "4\n",
      "6\n",
      "8\n",
      "10\n"
     ]
    }
   ],
   "source": [
    "my_iterator=iter(l)\n",
    "print(next(my_iterator))\n",
    "print(next(my_iterator))\n",
    "print(next(my_iterator))\n",
    "print(next(my_iterator))\n",
    "print(next(my_iterator))"
   ]
  },
  {
   "cell_type": "code",
   "execution_count": 11,
   "id": "f354247d-0f2a-46a3-b26d-6599ca7e1672",
   "metadata": {},
   "outputs": [],
   "source": [
    "# Q4.  What is a generator function in python? Why yield keyword is used? Give an example of a generator function."
   ]
  },
  {
   "cell_type": "markdown",
   "id": "2d06dfb7-b84d-4f3b-85d1-c896f76bf542",
   "metadata": {},
   "source": [
    " ANS = A generator function is a type of function in Python that allows you to define an iterator. \n",
    " ->It uses the yield keyword instead of return to return a value, and this allows the function to return a value multiple times, pausing and resuming execution where it left off each time.\n",
    "\n",
    "When a generator function is called, it returns a generator object, which can then be used to iterate over the sequence of values that the generator produces. Each time the generator's yield statement is executed, the value it yields is returned to the caller and the generator's state is saved. When the generator is called again, it resumes execution from where it left off, picking up the state where it was last saved.\n",
    "\n",
    "This allows generator functions to produce sequences of values that can be very large, or even infinite, without using up a lot of memory. Because the values are generated on the fly, rather than being pre-computed and stored in memory, they can be processed one at a time as they are needed."
   ]
  },
  {
   "cell_type": "code",
   "execution_count": 12,
   "id": "7f1b49bf-c92e-4d82-9d53-66e08652b018",
   "metadata": {},
   "outputs": [],
   "source": [
    "   #EXAMPLE:-\n",
    "def my_generator():\n",
    "    yield 1\n",
    "    yield 2\n",
    "    yield 3"
   ]
  },
  {
   "cell_type": "code",
   "execution_count": 13,
   "id": "7ec30319-6408-4eff-8f2b-ba3272bd6b1f",
   "metadata": {},
   "outputs": [
    {
     "name": "stdout",
     "output_type": "stream",
     "text": [
      "1\n",
      "2\n",
      "3\n"
     ]
    }
   ],
   "source": [
    "for value in my_generator():\n",
    "    print(value)"
   ]
  },
  {
   "cell_type": "code",
   "execution_count": 14,
   "id": "060cc679-2bee-4f07-81d4-dbe6b6349bd2",
   "metadata": {},
   "outputs": [],
   "source": [
    "# Q5. Create a generator function for prime numbers less than 1000. Use the next() method to print the \n",
    "#     first 20 prime numbers."
   ]
  },
  {
   "cell_type": "code",
   "execution_count": 15,
   "id": "03632180-5280-4eda-adc0-c61a4274a624",
   "metadata": {},
   "outputs": [],
   "source": [
    "def primes_gen():\n",
    "    \"\"\"\n",
    "    Generator function that yields prime numbers less than 1000.\n",
    "    \"\"\"\n",
    "    yield 2\n",
    "    primes = [2]\n",
    "    num = 3\n",
    "    while num < 1000:\n",
    "        is_prime = True\n",
    "        for prime in primes:\n",
    "            if prime**2 > num:\n",
    "                break\n",
    "            if num % prime == 0:\n",
    "                is_prime = False\n",
    "                break\n",
    "        if is_prime:\n",
    "            primes.append(num)\n",
    "            yield num\n",
    "        num += 2"
   ]
  },
  {
   "cell_type": "code",
   "execution_count": 16,
   "id": "e3d42d4a-04e5-4183-bfdc-7b54f9e741b5",
   "metadata": {},
   "outputs": [
    {
     "name": "stdout",
     "output_type": "stream",
     "text": [
      "2\n",
      "3\n",
      "5\n",
      "7\n",
      "11\n",
      "13\n",
      "17\n",
      "19\n",
      "23\n",
      "29\n",
      "31\n",
      "37\n",
      "41\n",
      "43\n",
      "47\n",
      "53\n",
      "59\n",
      "61\n",
      "67\n",
      "71\n"
     ]
    }
   ],
   "source": [
    "primes = primes_gen()\n",
    "\n",
    "for i in range(20):\n",
    "    print(next(primes))"
   ]
  },
  {
   "cell_type": "code",
   "execution_count": 3,
   "id": "8cfd59d9-d26c-46dc-b019-e7e7dc94f44a",
   "metadata": {},
   "outputs": [
    {
     "name": "stdout",
     "output_type": "stream",
     "text": [
      "1\n",
      "2\n",
      "3\n",
      "4\n",
      "5\n",
      "6\n",
      "7\n",
      "8\n",
      "9\n",
      "10\n",
      "11\n"
     ]
    }
   ],
   "source": [
    "a , b=0 , 1\n",
    "i=0\n",
    "while i<=10:\n",
    "    c=a+b\n",
    "    a=b\n",
    "    b=c\n",
    "    i=i+1\n",
    "    print(i)"
   ]
  },
  {
   "cell_type": "code",
   "execution_count": 17,
   "id": "de7fb85a-a446-41e9-b000-c6f2072e9aef",
   "metadata": {},
   "outputs": [],
   "source": [
    "# Q6. Write a python program to print the first 10 Fibonacci numbers using a while loop."
   ]
  },
  {
   "cell_type": "code",
   "execution_count": 18,
   "id": "0d8e7dd8-e513-43ab-9ed4-e0d55940f762",
   "metadata": {},
   "outputs": [
    {
     "name": "stdout",
     "output_type": "stream",
     "text": [
      "0  1  1  2  3  5  8  13  21  34  "
     ]
    }
   ],
   "source": [
    "a , b  = 0 , 1 \n",
    "counter = 0 \n",
    "while counter < 10: \n",
    "    print(a,end=\"  \")\n",
    "    c = a+ b\n",
    "    a = b \n",
    "    b = c \n",
    "    counter= counter+ 1"
   ]
  },
  {
   "cell_type": "code",
   "execution_count": 19,
   "id": "c504517e-e1f5-4772-bdc4-9a9d905f67ac",
   "metadata": {},
   "outputs": [],
   "source": [
    "# Q7.Write a List Comprehension to iterate through the given string: ‘pwskills’.\n",
    "#    Expected output: ['p', 'w', 's', 'k', 'i', 'l', 'l', 's'] "
   ]
  },
  {
   "cell_type": "code",
   "execution_count": 22,
   "id": "20ff4985-f645-4671-a14d-fb2da086ead6",
   "metadata": {},
   "outputs": [],
   "source": [
    "S ='pwskills'"
   ]
  },
  {
   "cell_type": "code",
   "execution_count": 23,
   "id": "bbd75017-5429-45fe-84a3-5b2ab6619121",
   "metadata": {},
   "outputs": [
    {
     "data": {
      "text/plain": [
       "['p', 'w', 's', 'k', 'i', 'l', 'l', 's']"
      ]
     },
     "execution_count": 23,
     "metadata": {},
     "output_type": "execute_result"
    }
   ],
   "source": [
    "[i for i in S]"
   ]
  },
  {
   "cell_type": "code",
   "execution_count": 24,
   "id": "9844c97e-3a70-491b-86c7-7b582e3d5406",
   "metadata": {},
   "outputs": [],
   "source": [
    "#  Q8. Write a python program to check whether a given number is Palindrome or not using a while loop."
   ]
  },
  {
   "cell_type": "code",
   "execution_count": 25,
   "id": "55d92aa9-139b-4902-b960-4a231bc8499e",
   "metadata": {},
   "outputs": [
    {
     "name": "stdin",
     "output_type": "stream",
     "text": [
      "Enter a number:  10\n"
     ]
    },
    {
     "name": "stdout",
     "output_type": "stream",
     "text": [
      "10 is not a palindrome number\n"
     ]
    }
   ],
   "source": [
    "num = int(input(\"Enter a number: \"))\n",
    "temp = num\n",
    "rev = 0\n",
    "\n",
    "while(temp > 0):\n",
    "    digit = temp % 10\n",
    "    rev = (rev * 10) + digit\n",
    "    temp = temp // 10\n",
    "\n",
    "if(num == rev):\n",
    "    print(num, \"is a palindrome number\")\n",
    "else:\n",
    "    print(num, \"is not a palindrome number\")"
   ]
  },
  {
   "cell_type": "code",
   "execution_count": 26,
   "id": "1b29c314-697e-4808-bdc1-ce4b14bcf48f",
   "metadata": {},
   "outputs": [],
   "source": [
    "# Q9. Write a code to print odd numbers from 1 to 100 using list comprehension."
   ]
  },
  {
   "cell_type": "code",
   "execution_count": 39,
   "id": "a026276e-9e8a-4d22-adeb-753331c6b3b8",
   "metadata": {},
   "outputs": [
    {
     "data": {
      "text/plain": [
       "[1,\n",
       " 3,\n",
       " 5,\n",
       " 7,\n",
       " 9,\n",
       " 11,\n",
       " 13,\n",
       " 15,\n",
       " 17,\n",
       " 19,\n",
       " 21,\n",
       " 23,\n",
       " 25,\n",
       " 27,\n",
       " 29,\n",
       " 31,\n",
       " 33,\n",
       " 35,\n",
       " 37,\n",
       " 39,\n",
       " 41,\n",
       " 43,\n",
       " 45,\n",
       " 47,\n",
       " 49,\n",
       " 51,\n",
       " 53,\n",
       " 55,\n",
       " 57,\n",
       " 59,\n",
       " 61,\n",
       " 63,\n",
       " 65,\n",
       " 67,\n",
       " 69,\n",
       " 71,\n",
       " 73,\n",
       " 75,\n",
       " 77,\n",
       " 79,\n",
       " 81,\n",
       " 83,\n",
       " 85,\n",
       " 87,\n",
       " 89,\n",
       " 91,\n",
       " 93,\n",
       " 95,\n",
       " 97,\n",
       " 99]"
      ]
     },
     "execution_count": 39,
     "metadata": {},
     "output_type": "execute_result"
    }
   ],
   "source": [
    "[i for i in range(1,100) if i%2!=0]"
   ]
  },
  {
   "cell_type": "code",
   "execution_count": null,
   "id": "3ee01260-e903-4fe1-8188-4437f6078136",
   "metadata": {},
   "outputs": [],
   "source": [
    "'''Note: Use a list comprehension to create a list from 1 to 100 and use another List comprehension to filter \n",
    "out odd numbers."
   ]
  },
  {
   "cell_type": "code",
   "execution_count": 40,
   "id": "e20eafd6-0422-488e-83bb-f7effdc38b53",
   "metadata": {},
   "outputs": [],
   "source": [
    "L=[i for i in range(1,100) if i%2!=0]"
   ]
  },
  {
   "cell_type": "code",
   "execution_count": 41,
   "id": "dabbc4bd-c39a-4e47-993c-7dfb301493be",
   "metadata": {},
   "outputs": [
    {
     "data": {
      "text/plain": [
       "[1,\n",
       " 3,\n",
       " 5,\n",
       " 7,\n",
       " 9,\n",
       " 11,\n",
       " 13,\n",
       " 15,\n",
       " 17,\n",
       " 19,\n",
       " 21,\n",
       " 23,\n",
       " 25,\n",
       " 27,\n",
       " 29,\n",
       " 31,\n",
       " 33,\n",
       " 35,\n",
       " 37,\n",
       " 39,\n",
       " 41,\n",
       " 43,\n",
       " 45,\n",
       " 47,\n",
       " 49,\n",
       " 51,\n",
       " 53,\n",
       " 55,\n",
       " 57,\n",
       " 59,\n",
       " 61,\n",
       " 63,\n",
       " 65,\n",
       " 67,\n",
       " 69,\n",
       " 71,\n",
       " 73,\n",
       " 75,\n",
       " 77,\n",
       " 79,\n",
       " 81,\n",
       " 83,\n",
       " 85,\n",
       " 87,\n",
       " 89,\n",
       " 91,\n",
       " 93,\n",
       " 95,\n",
       " 97,\n",
       " 99]"
      ]
     },
     "execution_count": 41,
     "metadata": {},
     "output_type": "execute_result"
    }
   ],
   "source": [
    "list(filter(lambda x : x % 2 != 0 , L))"
   ]
  },
  {
   "cell_type": "code",
   "execution_count": null,
   "id": "122f13c4-8072-4845-809b-672c14a727f3",
   "metadata": {},
   "outputs": [],
   "source": []
  }
 ],
 "metadata": {
  "kernelspec": {
   "display_name": "Python 3 (ipykernel)",
   "language": "python",
   "name": "python3"
  },
  "language_info": {
   "codemirror_mode": {
    "name": "ipython",
    "version": 3
   },
   "file_extension": ".py",
   "mimetype": "text/x-python",
   "name": "python",
   "nbconvert_exporter": "python",
   "pygments_lexer": "ipython3",
   "version": "3.10.8"
  }
 },
 "nbformat": 4,
 "nbformat_minor": 5
}
